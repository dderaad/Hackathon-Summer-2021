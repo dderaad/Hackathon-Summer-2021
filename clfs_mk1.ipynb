{
  "nbformat": 4,
  "nbformat_minor": 0,
  "metadata": {
    "colab": {
      "name": "clfs_mk1.ipynb",
      "provenance": [],
      "authorship_tag": "ABX9TyOzFtAcQnuLXOUsshIYnheK",
      "include_colab_link": true
    },
    "kernelspec": {
      "name": "python3",
      "display_name": "Python 3"
    },
    "language_info": {
      "name": "python"
    }
  },
  "cells": [
    {
      "cell_type": "markdown",
      "metadata": {
        "id": "view-in-github",
        "colab_type": "text"
      },
      "source": [
        "<a href=\"https://colab.research.google.com/github/dderaad/Hackathon-Summer-2021/blob/main/clfs_mk1.ipynb\" target=\"_parent\"><img src=\"https://colab.research.google.com/assets/colab-badge.svg\" alt=\"Open In Colab\"/></a>"
      ]
    },
    {
      "cell_type": "code",
      "metadata": {
        "id": "u5763yb4wS9Y"
      },
      "source": [
        "import pandas as pd\n",
        "import numpy as np"
      ],
      "execution_count": 1,
      "outputs": []
    },
    {
      "cell_type": "code",
      "metadata": {
        "colab": {
          "base_uri": "https://localhost:8080/"
        },
        "id": "EIndg3D-Gy_W",
        "outputId": "e2bf7612-b45e-4734-e71a-94e43909d7fd"
      },
      "source": [
        "# All of the paths for the relevant data sets are compiled into a list of urls\n",
        " \n",
        "PATH = \"https://raw.githubusercontent.com/dderaad/Hackathon-Summer-2021/main/\"\n",
        "files = [\n",
        "         \"prediction/prediction.csv\", \n",
        "         \"test_data/test_LABELS.csv\", \n",
        "         \"test_data/test_feature_names.csv\", \n",
        "         \"test_data/test_expression.csv.gz\", \n",
        "         \"train_data/train_labels.csv\", \n",
        "         \"train_data/train_feature_names.csv\", \n",
        "         \"train_data/train_expression.csv.gz\"\n",
        "         ]\n",
        "urls = [PATH + x for x in files]\n",
        "urls"
      ],
      "execution_count": 2,
      "outputs": [
        {
          "output_type": "execute_result",
          "data": {
            "text/plain": [
              "['https://raw.githubusercontent.com/dderaad/Hackathon-Summer-2021/main/prediction/prediction.csv',\n",
              " 'https://raw.githubusercontent.com/dderaad/Hackathon-Summer-2021/main/test_data/test_LABELS.csv',\n",
              " 'https://raw.githubusercontent.com/dderaad/Hackathon-Summer-2021/main/test_data/test_feature_names.csv',\n",
              " 'https://raw.githubusercontent.com/dderaad/Hackathon-Summer-2021/main/test_data/test_expression.csv.gz',\n",
              " 'https://raw.githubusercontent.com/dderaad/Hackathon-Summer-2021/main/train_data/train_labels.csv',\n",
              " 'https://raw.githubusercontent.com/dderaad/Hackathon-Summer-2021/main/train_data/train_feature_names.csv',\n",
              " 'https://raw.githubusercontent.com/dderaad/Hackathon-Summer-2021/main/train_data/train_expression.csv.gz']"
            ]
          },
          "metadata": {},
          "execution_count": 2
        }
      ]
    },
    {
      "cell_type": "code",
      "metadata": {
        "id": "e7y16zhjG4EH"
      },
      "source": [
        "# The datasets are read into a python dictionary with their simplified path names as their keys\n",
        " \n",
        "data_sets = {}\n",
        "for url, file_name in zip(urls, files):\n",
        "  data_sets[file_name] = pd.read_csv(url)\n",
        " \n",
        "for data_set_name in data_sets:\n",
        "  print(data_set_name, \"\\n\", data_sets[data_set_name].head(5), \"\\n\")"
      ],
      "execution_count": null,
      "outputs": []
    },
    {
      "cell_type": "code",
      "metadata": {
        "id": "6W8fdf_XG7uo"
      },
      "source": [
        "labelled_training_data = pd.concat([data_sets[\"train_data/train_labels.csv\"],\n",
        "                                    data_sets[\"train_data/train_expression.csv.gz\"] \n",
        "                                    ], axis=1)\n",
        "labelled_training_data[\"sum\"] = labelled_training_data.drop([\"sample_id\", \"age\", \"group\"], axis=1).sum(axis=1)\n",
        "def sum_of_squares(x):\n",
        "  return np.sum(np.power(x, 2))\n",
        "labelled_training_data[\"squared_sum\"] = labelled_training_data.drop([\"sample_id\", \"age\", \"group\"], axis=1).apply(sum_of_squares, axis=1)\n",
        "labelled_training_data.head(10)"
      ],
      "execution_count": null,
      "outputs": []
    },
    {
      "cell_type": "code",
      "metadata": {
        "id": "QpG9smQvHDTp"
      },
      "source": [
        "labelled_testing_data = pd.concat([data_sets[\"test_data/test_LABELS.csv\"],\n",
        "                                    data_sets[\"test_data/test_expression.csv.gz\"] \n",
        "                                    ], axis=1)\n",
        "labelled_testing_data[\"sum\"] = labelled_testing_data.drop([\"sample_id\", \"group\"], axis=1).sum(axis=1)\n",
        "labelled_testing_data[\"squared_sum\"] = labelled_testing_data.drop([\"sample_id\", \"group\"], axis=1).apply(sum_of_squares, axis=1)\n",
        "labelled_testing_data.head(10)"
      ],
      "execution_count": null,
      "outputs": []
    },
    {
      "cell_type": "code",
      "metadata": {
        "id": "2UUQ6RPEHdH6"
      },
      "source": [
        "#labelled_testing_data.describe()"
      ],
      "execution_count": null,
      "outputs": []
    },
    {
      "cell_type": "code",
      "metadata": {
        "id": "p_juYVWXH2xG"
      },
      "source": [
        "#labelled_training_data.describe()"
      ],
      "execution_count": null,
      "outputs": []
    },
    {
      "cell_type": "code",
      "metadata": {
        "id": "zEJlO_3kIEDR"
      },
      "source": [
        "from sklearn.dummy import DummyClassifier\n",
        "from sklearn.dummy import DummyRegressor\n",
        "clf_strategies = [\"most_frequent\", \"uniform\"]\n",
        "reg_stratgies = [\"mean\", \"median\"]\n",
        "dummy_classifiers = {f\"Dummy Classifier ({i})\": DummyClassifier(i) for i in clf_strategies}\n",
        "dummy_regressors = {f\"Dummy Regressor ({j})\": DummyRegressor(j) for j in reg_stratgies}\n",
        "dummy_classifiers.update(dummy_regressors)\n",
        "\n",
        "from sklearn.tree import DecisionTreeClassifier\n",
        "from sklearn.ensemble import RandomForestRegressor, AdaBoostClassifier\n",
        "from sklearn.svm import SVC\n",
        "from sklearn.gaussian_process import GaussianProcessClassifier\n",
        "from sklearn.gaussian_process.kernels import RBF\n",
        "\n",
        "clfs = {\n",
        "    #\"Decision Tree\": DecisionTreeClassifier(max_depth=3),\n",
        "    \"Random Forest\": RandomForestRegressor(n_estimators=200, max_depth=6, max_features='sqrt', random_state=1, min_samples_leaf=2),\n",
        "    #\"AdaBoost\": AdaBoostClassifier(),\n",
        "    #\"Linear SVM\": SVC(kernel=\"linear\", C=0.025),\n",
        "    #\"RBF SVM\": SVC(gamma=2, C=1),\n",
        "    #\"Gaussian Process\": GaussianProcessClassifier(1.0 * RBF(1.0))\n",
        "}\n",
        " \n",
        "classifiers = {}\n",
        "#classifiers.update(dummy_classifiers)\n",
        "classifiers.update(clfs)"
      ],
      "execution_count": null,
      "outputs": []
    },
    {
      "cell_type": "code",
      "metadata": {
        "id": "d-Sx9sqaIHAi"
      },
      "source": [
        "# format: X, y\n",
        "Xy_data_set = [\n",
        "               labelled_training_data.drop([\"sample_id\", \"group\", \"age\"], axis=1),\n",
        "               labelled_training_data[\"age\"]\n",
        "               ]\n",
        "Xy_data_set\n",
        "from sklearn.preprocessing import StandardScaler\n",
        "scaler = StandardScaler()\n",
        "scaler.fit(Xy_data_set[0])\n",
        "Xy_data_set_scaled = Xy_data_set\n",
        "Xy_data_set_scaled[0] = scaler.transform(Xy_data_set[0])\n",
        " \n",
        "from sklearn.model_selection import train_test_split\n",
        "X_train, X_test, y_train, y_test = train_test_split(Xy_data_set_scaled[0], Xy_data_set_scaled[1], test_size=0.15, random_state=1)\n",
        "X_train"
      ],
      "execution_count": null,
      "outputs": []
    },
    {
      "cell_type": "code",
      "metadata": {
        "id": "w1agmlSMMo7t"
      },
      "source": [
        "from sklearn.metrics import mean_squared_error\n",
        " \n",
        "for clf_name in classifiers:\n",
        "  classifiers[clf_name].fit(X_train, y_train)\n",
        "  score = classifiers[clf_name].score(X_test, y_test)\n",
        "  y_pred = classifiers[clf_name].predict(X_test)\n",
        "  print(f'{clf_name}\\nMSE: {mean_squared_error(y_test, y_pred)} \\n{score}\\n')"
      ],
      "execution_count": null,
      "outputs": []
    },
    {
      "cell_type": "code",
      "metadata": {
        "id": "Pj7IeEarM_uZ"
      },
      "source": [
        "prediction = classifiers[\"Random Forest\"].predict(labelled_testing_data.drop([\"sample_id\", \"group\"], axis=1))\n",
        "df = pd.concat([pd.Series(prediction, name=\"age\"), labelled_testing_data[\"sample_id\"]], axis=1)\n",
        "df.to_csv(\"prediction\\prediction.csv\", index=False)\n",
        "from google.colab import files\n",
        "files.download(\"prediction\\prediction.csv\")\n",
        "df"
      ],
      "execution_count": null,
      "outputs": []
    },
    {
      "cell_type": "code",
      "metadata": {
        "id": "6qFMTu6EIVdz"
      },
      "source": [
        "labelled_training_data[\"age\"].hist()"
      ],
      "execution_count": null,
      "outputs": []
    },
    {
      "cell_type": "code",
      "metadata": {
        "id": "hrBq99u6IKlg"
      },
      "source": [
        "import statsmodels.api as sm\n",
        "result = sm.OLS(Xy_data_set_scaled[1], Xy_data_set_scaled[0])\n",
        "result.fit()"
      ],
      "execution_count": null,
      "outputs": []
    },
    {
      "cell_type": "code",
      "metadata": {
        "id": "KWMgy7tsQWdC"
      },
      "source": [
        "print(result.summary())"
      ],
      "execution_count": null,
      "outputs": []
    },
    {
      "cell_type": "code",
      "metadata": {
        "id": "4kdav_XSOYD2"
      },
      "source": [
        "labelled_training_data"
      ],
      "execution_count": null,
      "outputs": []
    },
    {
      "cell_type": "code",
      "metadata": {
        "id": "1qJLfls4OafF"
      },
      "source": [
        ""
      ],
      "execution_count": null,
      "outputs": []
    }
  ]
}